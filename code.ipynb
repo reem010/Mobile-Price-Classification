{
  "nbformat": 4,
  "nbformat_minor": 0,
  "metadata": {
    "colab": {
      "provenance": []
    },
    "kernelspec": {
      "name": "python3",
      "display_name": "Python 3"
    },
    "language_info": {
      "name": "python"
    }
  },
  "cells": [
    {
      "cell_type": "code",
      "execution_count": 88,
      "metadata": {
        "id": "ZfEXZywd-u4b"
      },
      "outputs": [],
      "source": [
        "import numpy as np\n",
        "from sklearn.datasets import load_iris\n",
        "import sympy as sp\n",
        "import matplotlib.pyplot as plt\n",
        "from sklearn.utils import shuffle\n",
        "from sklearn.metrics import silhouette_score\n"
      ]
    },
    {
      "cell_type": "markdown",
      "source": [
        "Preprocess data"
      ],
      "metadata": {
        "id": "MgE7LEwUBmPZ"
      }
    },
    {
      "cell_type": "code",
      "source": [
        "# Load the Iris dataset\n",
        "iris = load_iris()\n",
        "# Access the data\n",
        "data = iris.data\n",
        "target = iris.target\n",
        "# Shuffle the data and target arrays together\n",
        "data, target = shuffle(data, target, random_state=42)\n",
        "# Display some information about the dataset\n",
        "print(f\"Data shape: {data.shape}\")\n",
        "features= data.shape[1]"
      ],
      "metadata": {
        "colab": {
          "base_uri": "https://localhost:8080/"
        },
        "id": "porBmdd5-vkQ",
        "outputId": "de1e8bb4-8421-4478-d9f7-b1434dc259ff"
      },
      "execution_count": 89,
      "outputs": [
        {
          "output_type": "stream",
          "name": "stdout",
          "text": [
            "Data shape: (150, 4)\n"
          ]
        }
      ]
    },
    {
      "cell_type": "markdown",
      "source": [
        "Fuzzy C mean\n"
      ],
      "metadata": {
        "id": "iBuEDh1af9jr"
      }
    },
    {
      "cell_type": "code",
      "source": [
        "\n",
        "def initialize_membership_matrix(n_samples, n_clusters):\n",
        "  return np.random.rand(n_samples, n_clusters)\n",
        "\n",
        "def update_centroids(data, membership_matrix, g):\n",
        "  n_samples, n_features = data.shape\n",
        "  n_clusters = membership_matrix.shape[1]\n",
        "  centroids = np.zeros((n_clusters, n_features))\n",
        "  for i in range(n_clusters):\n",
        "      for j in range(n_features):\n",
        "          numerator = np.sum((membership_matrix[:, i]**g) * data[:, j])\n",
        "          denominator = np.sum(membership_matrix[:, i]**g)\n",
        "          centroids[i, j] = numerator / denominator\n",
        "  return centroids\n",
        "\n",
        "def update_membership_matrix(data, centroids, g):\n",
        "  n_samples, n_features = data.shape\n",
        "  n_clusters = centroids.shape[0]\n",
        "\n",
        "  # Initialize distance matrix\n",
        "  distance_matrix = np.zeros((n_samples, n_clusters))\n",
        "  # Calculate the distance matrix element by element\n",
        "  for i in range(n_samples):\n",
        "      for j in range(n_clusters):\n",
        "          # Calculate the squared distance\n",
        "          squared_distance = np.sum((data[i, :] - centroids[j, :])**2)\n",
        "          # Calculate the Euclidean distance and store it in the distance matrix\n",
        "          distance_matrix[i, j] = np.sqrt(squared_distance)\n",
        "\n",
        "  # Initialize membership matrix\n",
        "  membership_matrix = np.zeros((n_samples, n_clusters))\n",
        "  # Calculate the membership matrix\n",
        "  for i in range(n_samples):\n",
        "    for j in range(n_clusters):\n",
        "        membership_matrix[i, j] = 1 / np.sum((distance_matrix[i, j] / distance_matrix[i, :]) ** (2 / (g - 1)))\n",
        "\n",
        "  return membership_matrix\n",
        "\n",
        "def fuzzy_cmeans(data, n_clusters, g, max_iter=100, tol=1e-4):\n",
        "    n_samples, n_features = data.shape\n",
        "\n",
        "    # Step 1: Initialize membership matrix randomly\n",
        "    membership_matrix = initialize_membership_matrix(n_samples, n_clusters)\n",
        "\n",
        "    for _ in range(max_iter):\n",
        "        # Step 2: Update centroids\n",
        "        centroids = update_centroids(data, membership_matrix, g)\n",
        "\n",
        "        # Step 3: Update membership matrix\n",
        "        new_membership_matrix = update_membership_matrix(data, centroids, g)\n",
        "\n",
        "        # Step 4: Check for convergence\n",
        "        if np.linalg.norm(new_membership_matrix - membership_matrix) < tol:  # norm is squared difference then sum all then sqrt\n",
        "            break\n",
        "\n",
        "        membership_matrix = new_membership_matrix\n",
        "\n",
        "    return centroids, membership_matrix\n"
      ],
      "metadata": {
        "id": "xECIQ-Y5u6Uv"
      },
      "execution_count": 90,
      "outputs": []
    },
    {
      "cell_type": "markdown",
      "source": [
        "Choose number of clusters"
      ],
      "metadata": {
        "id": "e_5blMZMgK81"
      }
    },
    {
      "cell_type": "code",
      "source": [
        "def calculate_elbow(data, max_clusters=10, g=2, max_iter=100, tol=1e-4):\n",
        "    distortions = []\n",
        "\n",
        "    for n_clusters in range(1, max_clusters + 1):\n",
        "        centroids, membership_matrix = fuzzy_cmeans(data, n_clusters, g, max_iter, tol)\n",
        "        distortion = calculate_distortion(data, centroids, membership_matrix)\n",
        "        distortions.append(distortion)\n",
        "\n",
        "    # Plot the elbow curve\n",
        "    plt.plot(range(1, max_clusters + 1), distortions, marker='o')\n",
        "    plt.xlabel('Number of Clusters')\n",
        "    plt.ylabel('Distortion')\n",
        "    plt.title('Elbow Method for Optimal Number of Clusters')\n",
        "    plt.show()\n",
        "\n",
        "def calculate_distortion(data, centroids, membership_matrix):\n",
        "  distortion = 0\n",
        "  for i in range(data.shape[0]):\n",
        "      for j in range(centroids.shape[0]):\n",
        "        #membership * enclidean between point and cluster\n",
        "        distortion += membership_matrix[i, j] ** 2 * np.sum((data[i, :] - centroids[j, :]) ** 2)\n",
        "  return distortion\n",
        "\n",
        "# Example usage\n",
        "calculate_elbow(data, max_clusters=10, g=2)\n"
      ],
      "metadata": {
        "colab": {
          "base_uri": "https://localhost:8080/",
          "height": 472
        },
        "id": "EKga4bHjdnMW",
        "outputId": "72b09c0b-37ff-414a-8818-e07a4bce04c1"
      },
      "execution_count": 91,
      "outputs": [
        {
          "output_type": "display_data",
          "data": {
            "text/plain": [
              "<Figure size 640x480 with 1 Axes>"
            ],
            "image/png": "[encoded data removed]"
          },
          "metadata": {}
        }
      ]
    },
    {
      "cell_type": "markdown",
      "source": [
        "Apply Fuzzy C mean on 3 clusters"
      ],
      "metadata": {
        "id": "0NebpT7wutxU"
      }
    },
    {
      "cell_type": "code",
      "source": [
        "n_clusters = 3\n",
        "g = 2\n",
        "\n",
        "centroids, membership_matrix = fuzzy_cmeans(data, n_clusters, g)\n",
        "\n",
        "print(\"Centroids:\")\n",
        "print(centroids)\n",
        "print(\"\\nMembership Matrix:\")\n",
        "print(membership_matrix)"
      ],
      "metadata": {
        "colab": {
          "base_uri": "https://localhost:8080/"
        },
        "id": "EQdoB7BVusBa",
        "outputId": "81fd55dc-61cd-44ad-f150-346f157c0102"
      },
      "execution_count": 92,
      "outputs": [
        {
          "output_type": "stream",
          "name": "stdout",
          "text": [
            "Centroids:\n",
            "[[6.77499501 3.05237755 5.64676158 2.05353887]\n",
            " [5.88891896 2.76106454 4.36393206 1.39730495]\n",
            " [5.00396593 3.41408952 1.48281445 0.25354583]]\n",
            "\n",
            "Membership Matrix:\n",
            "[[8.33404203e-02 9.02725663e-01 1.39339164e-02]\n",
            " [3.03083757e-02 6.55578841e-02 9.04133740e-01]\n",
            " [7.57583008e-01 1.93239251e-01 4.91777415e-02]\n",
            " [2.61970398e-02 9.68865749e-01 4.93721092e-03]\n",
            " [4.42758691e-01 5.23635527e-01 3.36057820e-02]\n",
            " [7.93953255e-03 1.76964367e-02 9.74364031e-01]\n",
            " [9.21810129e-02 8.16177588e-01 9.16413992e-02]\n",
            " [8.55130281e-01 1.29469342e-01 1.54003776e-02]\n",
            " [1.37428812e-01 8.35427187e-01 2.71440007e-02]\n",
            " [5.03007124e-02 9.18720340e-01 3.09789480e-02]\n",
            " [7.73374364e-01 2.09862730e-01 1.67629063e-02]\n",
            " [9.17732534e-03 2.01831436e-02 9.70639531e-01]\n",
            " [1.15641794e-02 2.42517494e-02 9.64184071e-01]\n",
            " [5.34166490e-03 1.19357841e-02 9.82722551e-01]\n",
            " [6.65371564e-03 1.41575287e-02 9.79188756e-01]\n",
            " [2.97239196e-01 6.72964692e-01 2.97961124e-02]\n",
            " [9.57609763e-01 3.76362655e-02 4.75397156e-03]\n",
            " [7.07657920e-02 8.77680100e-01 5.15541081e-02]\n",
            " [2.04633709e-02 9.73797032e-01 5.73959714e-03]\n",
            " [9.06210408e-01 8.48341086e-02 8.95548370e-03]\n",
            " [6.28265605e-03 1.42015568e-02 9.79515787e-01]\n",
            " [3.30053794e-01 6.46856027e-01 2.30901789e-02]\n",
            " [1.57330139e-03 3.58139916e-03 9.94845299e-01]\n",
            " [9.08649131e-01 8.29938879e-02 8.35698082e-03]\n",
            " [7.60122731e-01 1.88978563e-01 5.08987062e-02]\n",
            " [8.82365872e-01 1.06372826e-01 1.12613022e-02]\n",
            " [8.68681227e-01 1.17327223e-01 1.39915499e-02]\n",
            " [9.61024281e-01 3.37271986e-02 5.24852059e-03]\n",
            " [8.63158506e-03 1.92225834e-02 9.72145832e-01]\n",
            " [6.47354118e-03 1.47991635e-02 9.78727295e-01]\n",
            " [1.38329667e-02 2.75095551e-02 9.58657478e-01]\n",
            " [5.43065220e-02 1.04350389e-01 8.41343089e-01]\n",
            " [2.68419075e-01 6.89861464e-01 4.17194610e-02]\n",
            " [2.43111082e-03 5.43193523e-03 9.92136954e-01]\n",
            " [1.52085651e-02 3.21768378e-02 9.52614597e-01]\n",
            " [4.66716212e-01 5.07487835e-01 2.57959534e-02]\n",
            " [2.06838376e-01 7.63998391e-01 2.91632327e-02]\n",
            " [2.08675702e-03 4.56510262e-03 9.93348140e-01]\n",
            " [1.76793337e-03 3.76172407e-03 9.94470343e-01]\n",
            " [2.03342830e-02 4.11457265e-02 9.38519991e-01]\n",
            " [3.55144818e-01 6.15558807e-01 2.92963744e-02]\n",
            " [1.70716655e-01 7.97140538e-01 3.21428072e-02]\n",
            " [4.11158836e-01 5.55387544e-01 3.34536204e-02]\n",
            " [1.74957673e-02 3.55796026e-02 9.46924630e-01]\n",
            " [1.02010728e-02 2.17571227e-02 9.68041804e-01]\n",
            " [1.00738809e-01 7.95485404e-01 1.03775787e-01]\n",
            " [4.36449694e-01 5.40161397e-01 2.33889083e-02]\n",
            " [8.80158553e-01 1.10059071e-01 9.78237596e-03]\n",
            " [2.11292388e-01 7.54766793e-01 3.39408191e-02]\n",
            " [8.61008799e-01 1.14577461e-01 2.44137405e-02]\n",
            " [2.30102340e-02 9.67414227e-01 9.57553941e-03]\n",
            " [8.11887501e-01 1.52656833e-01 3.54556666e-02]\n",
            " [5.26793809e-02 9.33167135e-01 1.41534838e-02]\n",
            " [1.07202987e-03 2.30438211e-03 9.96623588e-01]\n",
            " [7.83221727e-01 1.74811865e-01 4.19664087e-02]\n",
            " [4.83659615e-02 9.25743281e-01 2.58907577e-02]\n",
            " [1.99599331e-03 4.32812454e-03 9.93675882e-01]\n",
            " [1.68832964e-03 3.58392648e-03 9.94727744e-01]\n",
            " [1.66007987e-02 3.81289607e-02 9.45270241e-01]\n",
            " [1.45059790e-01 6.36525357e-01 2.18414853e-01]\n",
            " [3.81490193e-01 5.95709624e-01 2.28001831e-02]\n",
            " [9.83834720e-03 2.32432711e-02 9.66918382e-01]\n",
            " [7.97359010e-03 1.84590230e-02 9.73567387e-01]\n",
            " [6.11160898e-03 1.44615898e-02 9.79426801e-01]\n",
            " [2.84364629e-02 9.58885354e-01 1.26781833e-02]\n",
            " [5.33248627e-04 1.17774265e-03 9.98289009e-01]\n",
            " [3.76740907e-02 9.45544259e-01 1.67816501e-02]\n",
            " [7.63613641e-01 1.85802752e-01 5.05836070e-02]\n",
            " [8.12684626e-03 1.76527013e-02 9.74220452e-01]\n",
            " [4.47307797e-02 9.43862251e-01 1.14069690e-02]\n",
            " [3.05689377e-01 6.59947343e-01 3.43632803e-02]\n",
            " [3.23485317e-02 6.34822193e-02 9.04169249e-01]\n",
            " [2.28414291e-01 7.49862397e-01 2.17233111e-02]\n",
            " [3.55144818e-01 6.15558807e-01 2.92963744e-02]\n",
            " [1.01117380e-01 8.43255815e-01 5.56268055e-02]\n",
            " [8.24519747e-02 8.91167542e-01 2.63804833e-02]\n",
            " [7.89399064e-01 1.89020489e-01 2.15804470e-02]\n",
            " [8.04383794e-02 8.70215062e-01 4.93465589e-02]\n",
            " [2.06199670e-02 4.48070895e-02 9.34572943e-01]\n",
            " [1.32737954e-01 5.98333435e-01 2.68928611e-01]\n",
            " [7.61134553e-01 2.23111431e-01 1.57540157e-02]\n",
            " [9.19314723e-04 2.00822402e-03 9.97072461e-01]\n",
            " [4.80523906e-03 1.02013484e-02 9.84993412e-01]\n",
            " [8.98840511e-02 8.32314111e-01 7.78018375e-02]\n",
            " [6.72513666e-01 3.06300319e-01 2.11860141e-02]\n",
            " [4.59405999e-03 1.03409512e-02 9.85064989e-01]\n",
            " [5.00656213e-01 4.60975153e-01 3.83686334e-02]\n",
            " [1.41207357e-04 3.11539873e-04 9.99547253e-01]\n",
            " [6.32950791e-03 1.43828710e-02 9.79287621e-01]\n",
            " [2.50767425e-01 7.21616034e-01 2.76165410e-02]\n",
            " [1.24510631e-01 5.20140438e-01 3.55348931e-01]\n",
            " [9.70479184e-01 2.56938891e-02 3.82692733e-03]\n",
            " [3.19744359e-01 6.56285002e-01 2.39706390e-02]\n",
            " [5.76112133e-01 3.92705022e-01 3.11828447e-02]\n",
            " [8.39584058e-01 1.31758091e-01 2.86578513e-02]\n",
            " [6.23729209e-02 8.99451830e-01 3.81752491e-02]\n",
            " [2.19027565e-02 4.77188348e-02 9.30378409e-01]\n",
            " [2.52363042e-02 5.17950584e-02 9.22968637e-01]\n",
            " [2.57106667e-01 7.10707312e-01 3.21860212e-02]\n",
            " [9.11941187e-01 7.51536330e-02 1.29051797e-02]\n",
            " [1.01077021e-02 2.24655756e-02 9.67426722e-01]\n",
            " [1.05879020e-03 2.28849929e-03 9.96652711e-01]\n",
            " [1.92327370e-02 4.10840973e-02 9.39683166e-01]\n",
            " [2.70617335e-01 7.05411735e-01 2.39709294e-02]\n",
            " [8.54085482e-01 1.28689065e-01 1.72254525e-02]\n",
            " [6.50461042e-03 1.40040919e-02 9.79491298e-01]\n",
            " [9.88816987e-01 1.00166750e-02 1.16633817e-03]\n",
            " [8.59910176e-01 1.20732311e-01 1.93575129e-02]\n",
            " [6.41466664e-03 1.37597675e-02 9.79825566e-01]\n",
            " [8.82610204e-02 8.99624179e-01 1.21148001e-02]\n",
            " [2.17181218e-01 7.58710378e-01 2.41084031e-02]\n",
            " [2.71291025e-01 7.07731255e-01 2.09777204e-02]\n",
            " [5.01186654e-01 4.54238194e-01 4.45751520e-02]\n",
            " [8.49881410e-01 1.36056484e-01 1.40621062e-02]\n",
            " [7.36499906e-03 1.58422644e-02 9.76792737e-01]\n",
            " [9.67553023e-01 2.89581385e-02 3.48883871e-03]\n",
            " [2.87398473e-02 9.62074188e-01 9.18596486e-03]\n",
            " [8.31477197e-01 1.56410590e-01 1.21122131e-02]\n",
            " [1.04655170e-01 7.67029008e-01 1.28315822e-01]\n",
            " [9.46956917e-02 8.30548187e-01 7.47561213e-02]\n",
            " [7.27421821e-02 9.15639545e-01 1.16182729e-02]\n",
            " [4.69949421e-02 1.02272141e-01 8.50732917e-01]\n",
            " [2.47766565e-01 7.21000763e-01 3.12326716e-02]\n",
            " [4.92209366e-02 9.31151182e-01 1.96278819e-02]\n",
            " [7.25961341e-03 1.55203290e-02 9.77220058e-01]\n",
            " [4.69818769e-02 9.28929014e-01 2.40891095e-02]\n",
            " [8.62982596e-01 1.15122657e-01 2.18947468e-02]\n",
            " [9.75345950e-01 2.17407761e-02 2.91327361e-03]\n",
            " [4.79392150e-03 1.03733890e-02 9.84832690e-01]\n",
            " [1.32306297e-01 5.82520420e-01 2.85173283e-01]\n",
            " [9.27125974e-01 6.31738097e-02 9.70021636e-03]\n",
            " [8.90822319e-01 9.47341473e-02 1.44435338e-02]\n",
            " [2.92657291e-03 6.18254632e-03 9.90890881e-01]\n",
            " [9.57249034e-01 3.76741714e-02 5.07679454e-03]\n",
            " [7.49808356e-03 1.66499192e-02 9.75851997e-01]\n",
            " [6.00005199e-01 3.68728440e-01 3.12663608e-02]\n",
            " [8.72785646e-01 1.07431080e-01 1.97832738e-02]\n",
            " [8.45545200e-01 1.41930736e-01 1.25240635e-02]\n",
            " [2.67348663e-02 9.60576555e-01 1.26885788e-02]\n",
            " [9.13231650e-01 7.96079579e-02 7.16039200e-03]\n",
            " [1.15479513e-01 8.57656756e-01 2.68637312e-02]\n",
            " [1.01192869e-01 8.75901023e-01 2.29061078e-02]\n",
            " [2.59403194e-01 7.06957681e-01 3.36391241e-02]\n",
            " [3.91336290e-01 5.81744383e-01 2.69193270e-02]\n",
            " [9.54044529e-03 2.18558229e-02 9.68603732e-01]\n",
            " [4.62306406e-02 9.34276389e-01 1.94929699e-02]\n",
            " [1.67037156e-01 7.59990424e-01 7.29724202e-02]\n",
            " [3.76320603e-02 7.26103275e-02 8.89757612e-01]\n",
            " [4.17832901e-02 9.35701720e-01 2.25149900e-02]\n",
            " [9.55785120e-01 3.81408813e-02 6.07399888e-03]]\n"
          ]
        }
      ]
    },
    {
      "cell_type": "markdown",
      "source": [
        "PCA"
      ],
      "metadata": {
        "id": "eJWU320ggQj0"
      }
    },
    {
      "cell_type": "code",
      "source": [
        "\n",
        "def centerize_data(data):\n",
        "    centered = data.copy()\n",
        "    features = data.shape[1]\n",
        "\n",
        "    for i in range(features):\n",
        "        mean = np.mean(centered[:, i])\n",
        "        centered[:, i] = centered[:, i] - mean\n",
        "\n",
        "    return centered\n",
        "\n",
        "def get_covariance_matrix(centered_data):\n",
        "    n = centered_data.shape[0]\n",
        "    cov_matrix = (1/n) * np.dot(centered_data.T, centered_data)\n",
        "    return cov_matrix\n",
        "\n",
        "def calculate_eigenvalues(cov_matrix):\n",
        "    x = sp.symbols('x')\n",
        "    lamda_mat = sp.eye(*cov_matrix.shape) * x\n",
        "    result_matrix = lamda_mat - cov_matrix\n",
        "    determinant = sp.Matrix(result_matrix).det()\n",
        "    eigenvalues = sp.solve(determinant, x)\n",
        "    eigenvalues = np.array(eigenvalues)\n",
        "    return eigenvalues\n",
        "\n",
        "def calculate_eigenvectors(cov_matrix):\n",
        "    _, eigenvectors = np.linalg.eigh(cov_matrix)\n",
        "    return eigenvectors\n",
        "\n",
        "def PCA(data):\n",
        "    features = data.shape[1]\n",
        "\n",
        "    # Step 1: Centerize Data\n",
        "    centered_data = centerize_data(data)\n",
        "\n",
        "    # Step 2: Get Covariance Matrix\n",
        "    cov_matrix = get_covariance_matrix(centered_data)\n",
        "    print(\"Covariance Matrix:\")\n",
        "    print(cov_matrix)\n",
        "\n",
        "    # Step 3: Calculate Eigenvalues\n",
        "    eigenvalues = calculate_eigenvalues(cov_matrix)\n",
        "    print(\"Eigenvalues:\")\n",
        "    print(eigenvalues)\n",
        "\n",
        "    # Step 4: Calculate Eigenvectors\n",
        "    eigenvectors = calculate_eigenvectors(cov_matrix)\n",
        "    print(\"Eigenvectors:\")\n",
        "    print(eigenvectors)\n",
        "    return centered_data, cov_matrix, eigenvalues, eigenvectors\n",
        "centered_data, cov_matrix, eigenvalues, eigenvectors = PCA(data)\n"
      ],
      "metadata": {
        "colab": {
          "base_uri": "https://localhost:8080/"
        },
        "id": "xYOT5_F4-yDj",
        "outputId": "c13aa520-5ea2-4683-bcfb-5246fd90ff48"
      },
      "execution_count": 93,
      "outputs": [
        {
          "output_type": "stream",
          "name": "stdout",
          "text": [
            "Covariance Matrix:\n",
            "[[ 0.68112222 -0.04215111  1.26582     0.51282889]\n",
            " [-0.04215111  0.18871289 -0.32745867 -0.12082844]\n",
            " [ 1.26582    -0.32745867  3.09550267  1.286972  ]\n",
            " [ 0.51282889 -0.12082844  1.286972    0.57713289]]\n",
            "Eigenvalues:\n",
            "[0.0236761923536269 0.0776881033759704 0.241052942942519 4.20005342799462]\n",
            "Eigenvectors:\n",
            "[[ 0.31548719  0.58202985  0.65658877 -0.36138659]\n",
            " [-0.3197231  -0.59791083  0.73016143  0.08452251]\n",
            " [-0.47983899 -0.07623608 -0.17337266 -0.85667061]\n",
            " [ 0.75365743 -0.54583143 -0.07548102 -0.3582892 ]]\n"
          ]
        }
      ]
    },
    {
      "cell_type": "markdown",
      "source": [
        "Choose the best number of eigen vectors"
      ],
      "metadata": {
        "id": "S3abO0gugoI2"
      }
    },
    {
      "cell_type": "code",
      "source": [
        "# Sort eigenvalues and eigenvectors in descending order\n",
        "idx = eigenvalues.argsort()[::-1]\n",
        "eigenvalues = eigenvalues[idx]\n",
        "eigenvectors = eigenvectors[:, idx]\n",
        "# Vary the number of principal components to create different Q matrices\n",
        "max_components = min(len(eigenvalues), len(eigenvectors))\n",
        "reconstructed_errors = []\n",
        "for num_components in range(1, max_components + 1):\n",
        "    top_eigenvectors = eigenvectors[:, :num_components]\n",
        "    projected_data = np.dot(centered_data, top_eigenvectors)\n",
        "    reconstructed_data = np.dot(projected_data, top_eigenvectors.T)\n",
        "    reconstruction_error = np.mean(np.square(centered_data - reconstructed_data))\n",
        "    reconstructed_errors.append(reconstruction_error)\n",
        "print(\"Reconstructed errors :\" ,reconstructed_errors)"
      ],
      "metadata": {
        "id": "ftzkCO7Q_PvP",
        "colab": {
          "base_uri": "https://localhost:8080/"
        },
        "outputId": "3093c6c4-03b9-4b58-f66f-7ea29821c7d8"
      },
      "execution_count": 94,
      "outputs": [
        {
          "output_type": "stream",
          "name": "stdout",
          "text": [
            "Reconstructed errors : [0.08560430966800889, 0.02534107393239825, 0.005919048088406608, 1.7764795035856731e-31]\n"
          ]
        }
      ]
    },
    {
      "cell_type": "code",
      "source": [
        "# Plotting the reconstructed errors\n",
        "plt.plot(range(1, len(reconstructed_errors) + 1), reconstructed_errors, marker='o')\n",
        "plt.title('Reconstructed Errors vs. Number of Eigenvalues')\n",
        "plt.xlabel('Number of Eigenvalues')\n",
        "plt.ylabel('Reconstructed Error')\n",
        "plt.show()\n",
        "print(\"Then best number of compenets is 3\")\n",
        "print(\"The reconstructed error significantly decreases from 1 to 2 eigenvalues.\")\n",
        "print(\"There is still a noticeable reduction from 2 to 3 eigenvalues.\")\n",
        "print(\"The error decreases to near-zero when using 4 eigenvalues, suggesting potential overfitting or numerical precision considerations.\")\n",
        "print(\"using a 3-dimensional space retains most of the original information while reducing the dimensionality \")\n"
      ],
      "metadata": {
        "colab": {
          "base_uri": "https://localhost:8080/",
          "height": 559
        },
        "id": "2NblPkz50XjT",
        "outputId": "118632bc-8beb-47d4-f370-1ed607e6a3a0"
      },
      "execution_count": 95,
      "outputs": [
        {
          "output_type": "display_data",
          "data": {
            "text/plain": [
              "<Figure size 640x480 with 1 Axes>"
            ],
            "image/png": "[encoded data removed]"
          },
          "metadata": {}
        },
        {
          "output_type": "stream",
          "name": "stdout",
          "text": [
            "Then best number of compenets is 3\n",
            "The reconstructed error significantly decreases from 1 to 2 eigenvalues.\n",
            "There is still a noticeable reduction from 2 to 3 eigenvalues.\n",
            "The error decreases to near-zero when using 4 eigenvalues, suggesting potential overfitting or numerical precision considerations.\n",
            "using a 3-dimensional space retains most of the original information while reducing the dimensionality \n"
          ]
        }
      ]
    },
    {
      "cell_type": "code",
      "source": [
        "#Use the best Q matrix to compress the data\n",
        "num_components = 3\n",
        "top_eigenvectors = eigenvectors[:, :num_components]\n",
        "compressed = np.dot(centered_data, top_eigenvectors)\n",
        "reconstructed_data = np.dot(compressed, top_eigenvectors.T)"
      ],
      "metadata": {
        "id": "8UeBQwgxNHbd"
      },
      "execution_count": 96,
      "outputs": []
    },
    {
      "cell_type": "markdown",
      "source": [
        "Fuzzy c mean after applying PCA"
      ],
      "metadata": {
        "id": "cEyIt0qMgWTI"
      }
    },
    {
      "cell_type": "code",
      "source": [
        "n_clusters = 3\n",
        "g = 2\n",
        "\n",
        "centroids_pca, membership_matrix_pca = fuzzy_cmeans(compressed, n_clusters, g)\n",
        "\n",
        "print(\"Centroids:\")\n",
        "print(centroids_pca)\n",
        "print(\"\\nMembership Matrix:\")\n",
        "print(membership_matrix_pca)"
      ],
      "metadata": {
        "id": "aiXXtFJpn76x",
        "colab": {
          "base_uri": "https://localhost:8080/"
        },
        "outputId": "91d1a60f-1f90-4a09-92a9-81b4c8afa725"
      },
      "execution_count": 97,
      "outputs": [
        {
          "output_type": "stream",
          "name": "stdout",
          "text": [
            "Centroids:\n",
            "[[-2.25922026  0.21661396 -0.06519816]\n",
            " [ 2.62178257  0.17544741 -0.01224838]\n",
            " [-0.62773317 -0.30813225  0.05013179]]\n",
            "\n",
            "Membership Matrix:\n",
            "[[6.15282959e-02 9.83036225e-03 9.28641342e-01]\n",
            " [3.03006080e-02 9.04070716e-01 6.56286760e-02]\n",
            " [7.57435306e-01 4.92727505e-02 1.93291943e-01]\n",
            " [2.71462638e-02 5.09415866e-03 9.67759578e-01]\n",
            " [4.43931255e-01 3.35935002e-02 5.22475245e-01]\n",
            " [5.61807089e-03 9.81777160e-01 1.26047693e-02]\n",
            " [8.90645088e-02 8.84849867e-02 8.22450504e-01]\n",
            " [9.29046187e-01 6.86076709e-03 6.40930457e-02]\n",
            " [1.17225090e-01 2.27876856e-02 8.59987225e-01]\n",
            " [4.89428560e-02 3.00896808e-02 9.20967463e-01]\n",
            " [7.76410326e-01 1.64085961e-02 2.07181078e-01]\n",
            " [9.18649528e-03 9.70581040e-01 2.02324644e-02]\n",
            " [1.03722287e-02 9.67787747e-01 2.18400242e-02]\n",
            " [5.22773953e-03 9.83077160e-01 1.16951003e-02]\n",
            " [6.47598420e-03 9.79734085e-01 1.37899306e-02]\n",
            " [3.01093049e-01 2.97943188e-02 6.69112633e-01]\n",
            " [9.57956829e-01 4.73237499e-03 3.73107956e-02]\n",
            " [7.01369438e-02 5.09702296e-02 8.78892827e-01]\n",
            " [6.77464051e-03 1.85940119e-03 9.91365958e-01]\n",
            " [9.09205950e-01 8.63033518e-03 8.21637152e-02]\n",
            " [5.68637003e-03 9.81443883e-01 1.28697468e-02]\n",
            " [3.32807127e-01 2.31828282e-02 6.44010045e-01]\n",
            " [1.43361343e-03 9.95295848e-01 3.27053878e-03]\n",
            " [9.09036024e-01 8.33694116e-03 8.26270344e-02]\n",
            " [7.65771334e-01 4.96725229e-02 1.84556143e-01]\n",
            " [9.42538531e-01 5.09386495e-03 5.23676045e-02]\n",
            " [8.72387182e-01 1.36411786e-02 1.13971640e-01]\n",
            " [9.60980221e-01 5.26422977e-03 3.37555492e-02]\n",
            " [7.87422764e-03 9.74524075e-01 1.76016978e-02]\n",
            " [6.34144859e-03 9.79143386e-01 1.45151651e-02]\n",
            " [1.38284148e-02 9.58639750e-01 2.75318352e-02]\n",
            " [5.43286407e-02 8.41211091e-01 1.04460268e-01]\n",
            " [2.66279490e-01 4.12063880e-02 6.92514122e-01]\n",
            " [1.42304886e-03 9.95393183e-01 3.18376793e-03]\n",
            " [1.50416783e-02 9.53100904e-01 3.18574174e-02]\n",
            " [4.59165837e-01 2.41237854e-02 5.16710378e-01]\n",
            " [2.08553830e-01 2.92942866e-02 7.62151884e-01]\n",
            " [2.07873761e-03 9.93368383e-01 4.55287961e-03]\n",
            " [1.61424828e-03 9.94947981e-01 3.43777025e-03]\n",
            " [1.75373051e-02 9.46906614e-01 3.55560812e-02]\n",
            " [3.57393373e-01 2.93702737e-02 6.13236353e-01]\n",
            " [1.71618918e-01 3.19448466e-02 7.96436236e-01]\n",
            " [4.12680029e-01 3.34572730e-02 5.53862698e-01]\n",
            " [1.64627485e-02 9.49940221e-01 3.35970309e-02]\n",
            " [1.01958046e-02 9.68036605e-01 2.17675909e-02]\n",
            " [1.00160550e-01 1.02980998e-01 7.96858452e-01]\n",
            " [4.45347785e-01 2.24967624e-02 5.32155452e-01]\n",
            " [9.10629601e-01 7.22039391e-03 8.21500050e-02]\n",
            " [2.08199512e-01 3.33000333e-02 7.58500455e-01]\n",
            " [8.61577223e-01 2.43234173e-02 1.14099360e-01]\n",
            " [2.03882545e-02 8.42301298e-03 9.71188732e-01]\n",
            " [8.13739863e-01 3.51710148e-02 1.51089122e-01]\n",
            " [4.65984230e-02 1.23279638e-02 9.41073613e-01]\n",
            " [1.06857371e-03 9.96631534e-01 2.29989268e-03]\n",
            " [7.85490629e-01 4.15854249e-02 1.72923946e-01]\n",
            " [4.20951875e-02 2.23110470e-02 9.35593766e-01]\n",
            " [1.81829800e-03 9.94230712e-01 3.95099014e-03]\n",
            " [1.33772012e-03 9.95815819e-01 2.84646113e-03]\n",
            " [1.51590033e-02 9.49971890e-01 3.48691066e-02]\n",
            " [1.44431987e-01 2.17254689e-01 6.38313324e-01]\n",
            " [3.74347426e-01 2.19457801e-02 6.03706794e-01]\n",
            " [5.90561403e-03 9.80082555e-01 1.40118312e-02]\n",
            " [7.94174158e-03 9.73635715e-01 1.84225432e-02]\n",
            " [5.11533269e-03 9.82725014e-01 1.21596532e-02]\n",
            " [2.70271839e-02 1.19892252e-02 9.60983591e-01]\n",
            " [5.26267356e-04 9.98309960e-01 1.16377305e-03]\n",
            " [2.81488186e-02 1.23592526e-02 9.59491929e-01]\n",
            " [7.70973050e-01 4.89185161e-02 1.80108434e-01]\n",
            " [8.00738166e-03 9.74579891e-01 1.74127277e-02]\n",
            " [4.51637114e-02 1.14769890e-02 9.43359300e-01]\n",
            " [3.01301355e-01 3.36449598e-02 6.65053685e-01]\n",
            " [3.20714717e-02 9.04966491e-01 6.29620371e-02]\n",
            " [2.29874377e-01 2.17920830e-02 7.48333540e-01]\n",
            " [3.57393373e-01 2.93702737e-02 6.13236353e-01]\n",
            " [9.95078794e-02 5.46657616e-02 8.45826359e-01]\n",
            " [7.30985850e-02 2.29369342e-02 9.03964481e-01]\n",
            " [7.90283915e-01 2.15395601e-02 1.88176525e-01]\n",
            " [7.76186689e-02 4.75556184e-02 8.74825713e-01]\n",
            " [2.06122140e-02 9.34559518e-01 4.48282678e-02]\n",
            " [1.32204204e-01 2.67577819e-01 6.00217977e-01]\n",
            " [7.62298150e-01 1.56483638e-02 2.22053486e-01]\n",
            " [8.71541341e-04 9.97221308e-01 1.90715104e-03]\n",
            " [3.83259302e-03 9.88000660e-01 8.16674654e-03]\n",
            " [8.90740783e-02 7.69692356e-02 8.33956686e-01]\n",
            " [6.73891309e-01 2.10731162e-02 3.05035574e-01]\n",
            " [4.58936693e-03 9.85062506e-01 1.03481271e-02]\n",
            " [4.97637804e-01 3.59414523e-02 4.66420743e-01]\n",
            " [5.56601161e-05 9.99821407e-01 1.22933059e-04]\n",
            " [4.97328175e-03 9.83669795e-01 1.13569229e-02]\n",
            " [2.53832755e-01 2.76735122e-02 7.18493733e-01]\n",
            " [1.22348873e-01 3.52330713e-01 5.25320413e-01]\n",
            " [9.76817330e-01 2.98713019e-03 2.01955394e-02]\n",
            " [3.22676621e-01 2.32957216e-02 6.54027658e-01]\n",
            " [6.18164681e-01 2.48313406e-02 3.57003978e-01]\n",
            " [8.47014363e-01 2.70930027e-02 1.25892634e-01]\n",
            " [6.11030708e-02 3.73380127e-02 9.01558917e-01]\n",
            " [2.19012867e-02 9.30318244e-01 4.77804696e-02]\n",
            " [2.52370917e-02 9.22902998e-01 5.18599103e-02]\n",
            " [2.58666214e-01 3.22370516e-02 7.09096734e-01]\n",
            " [9.26987830e-01 1.06689672e-02 6.23432027e-02]\n",
            " [9.91329016e-03 9.68027342e-01 2.20593680e-02]\n",
            " [8.07927010e-04 9.97441909e-01 1.75016356e-03]\n",
            " [1.92439001e-02 9.39591555e-01 4.11645447e-02]\n",
            " [2.72454632e-01 2.40560862e-02 7.03489282e-01]\n",
            " [8.54612955e-01 1.71944418e-02 1.28192603e-01]\n",
            " [6.42289921e-03 9.79734093e-01 1.38430077e-02]\n",
            " [9.95895586e-01 4.24923045e-04 3.67949142e-03]\n",
            " [8.60859508e-01 1.92879487e-02 1.19852543e-01]\n",
            " [6.40375661e-03 9.79838448e-01 1.37577959e-02]\n",
            " [8.31906680e-02 1.11513764e-02 9.05657956e-01]\n",
            " [2.12145007e-01 2.34033616e-02 7.64451631e-01]\n",
            " [2.62328733e-01 2.00209479e-02 7.17650319e-01]\n",
            " [5.02755517e-01 4.45693526e-02 4.52675131e-01]\n",
            " [8.60937351e-01 1.27669565e-02 1.26295693e-01]\n",
            " [5.88872987e-03 9.81428453e-01 1.26828172e-02]\n",
            " [9.79941425e-01 2.12791932e-03 1.79306561e-02]\n",
            " [2.67916049e-02 8.54461954e-03 9.64663776e-01]\n",
            " [8.36270077e-01 1.16411373e-02 1.52088785e-01]\n",
            " [1.03195507e-01 1.26404749e-01 7.70399745e-01]\n",
            " [9.40904727e-02 7.41390397e-02 8.31770488e-01]\n",
            " [6.90742670e-02 1.08282955e-02 9.20097438e-01]\n",
            " [4.44095530e-02 8.58125593e-01 9.74648539e-02]\n",
            " [2.50192343e-01 3.13546664e-02 7.18452990e-01]\n",
            " [3.74567554e-02 1.46811203e-02 9.47862124e-01]\n",
            " [7.17259464e-03 9.77480210e-01 1.53471954e-02]\n",
            " [4.42758116e-02 2.25447574e-02 9.33179431e-01]\n",
            " [8.74835762e-01 1.99455261e-02 1.05218712e-01]\n",
            " [9.78392726e-01 2.56335178e-03 1.90439218e-02]\n",
            " [4.72290102e-03 9.85040551e-01 1.02365478e-02]\n",
            " [1.32044108e-01 2.84158594e-01 5.83797299e-01]\n",
            " [9.37253998e-01 8.26025137e-03 5.44857507e-02]\n",
            " [9.07036739e-01 1.22529670e-02 8.07102937e-02]\n",
            " [1.83762877e-03 9.94275933e-01 3.88643868e-03]\n",
            " [9.75884501e-01 2.80913388e-03 2.13063655e-02]\n",
            " [7.13604891e-03 9.76973025e-01 1.58909264e-02]\n",
            " [6.02429097e-01 3.12281189e-02 3.66342784e-01]\n",
            " [8.73211402e-01 1.97705338e-02 1.07018065e-01]\n",
            " [8.75490679e-01 9.96583983e-03 1.14543481e-01]\n",
            " [2.61768930e-02 1.23816426e-02 9.61441464e-01]\n",
            " [9.31519751e-01 5.64469788e-03 6.28355515e-02]\n",
            " [1.07330232e-01 2.48414182e-02 8.67828349e-01]\n",
            " [1.00305351e-01 2.26502335e-02 8.77044415e-01]\n",
            " [2.58664850e-01 3.34713441e-02 7.07863806e-01]\n",
            " [3.96992349e-01 2.64141016e-02 5.76593549e-01]\n",
            " [9.54615961e-03 9.68557464e-01 2.18963764e-02]\n",
            " [4.04392249e-02 1.70067447e-02 9.42554030e-01]\n",
            " [1.66826777e-01 7.26038229e-02 7.60569400e-01]\n",
            " [3.68551162e-02 8.91825840e-01 7.13190440e-02]\n",
            " [4.06915548e-02 2.18850601e-02 9.37423385e-01]\n",
            " [9.55778948e-01 6.08412382e-03 3.81369277e-02]]\n"
          ]
        }
      ]
    },
    {
      "cell_type": "markdown",
      "source": [
        "Comapring between Fuzzy C mean before and after PCA"
      ],
      "metadata": {
        "id": "Yf7tpUjoNXUh"
      }
    },
    {
      "cell_type": "code",
      "source": [
        "#S(i)= b(i)−a(i) / max{a(i),b(i)}\n",
        "#a(i) is the average distance from the i-th data point to other data points in the same cluster. It measures cohesion.\n",
        "#b(i) is the smallest average distance from the i-th data point to data points in a different cluster, minimized over clusters.It measures separation.\n",
        "def calculate_silhouette_score(data, centroids, membership_matrix):\n",
        "    fuzzy_labels = np.argmax(membership_matrix, axis=1)\n",
        "    silhouette_avg = silhouette_score(data, fuzzy_labels)\n",
        "    return silhouette_avg\n",
        "\n",
        "silhouette_score1 = calculate_silhouette_score(data, centroids, membership_matrix)\n",
        "print(\"Silhouette Score:\", silhouette_score1)\n",
        "silhouette_score2 = calculate_silhouette_score(compressed, centroids_pca, membership_matrix_pca)\n",
        "print(\"Silhouette Score after PCA:\", silhouette_score2)\n",
        "print(\"Reducing noise after using PCA in the data lead to more meaningful and stable clusters when using Fuzzy C mean\")\n"
      ],
      "metadata": {
        "id": "Vgykkhk5YFFz",
        "colab": {
          "base_uri": "https://localhost:8080/"
        },
        "outputId": "b7570d3d-a214-4686-9a9e-5f26d109a232"
      },
      "execution_count": 100,
      "outputs": [
        {
          "output_type": "stream",
          "name": "stdout",
          "text": [
            "Silhouette Score: 0.549517512647162\n",
            "Silhouette Score after PCA: 0.5594110533154549\n",
            "Reducing noise after using PCA in the data lead to more meaningful and stable clusters when using Fuzzy C mean\n"
          ]
        }
      ]
    },
    {
      "cell_type": "code",
      "source": [],
      "metadata": {
        "id": "hWzNUqpmD31x"
      },
      "execution_count": null,
      "outputs": []
    }
  ]
}